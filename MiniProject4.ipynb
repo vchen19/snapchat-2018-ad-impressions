{
  "nbformat": 4,
  "nbformat_minor": 0,
  "metadata": {
    "colab": {
      "name": "MiniProject4.ipynb",
      "provenance": [],
      "collapsed_sections": []
    },
    "kernelspec": {
      "name": "python3",
      "display_name": "Python 3"
    },
    "language_info": {
      "name": "python"
    }
  },
  "cells": [
    {
      "cell_type": "markdown",
      "metadata": {
        "id": "Ig-bQhpTAAFF"
      },
      "source": [
        "# **Snapchat Political Ad Impressions**\n",
        "> The purpose of this project is to re-analyze what factors might relate to a greater number of political advertisement impressions on Snapchat using Python."
      ]
    },
    {
      "cell_type": "markdown",
      "metadata": {
        "id": "XjwdkafGBzou"
      },
      "source": [
        "***Import Libraries***"
      ]
    },
    {
      "cell_type": "code",
      "metadata": {
        "id": "WH1VooytrGP0"
      },
      "source": [
        "#import libraries\n",
        "import numpy as np\n",
        "import pandas as pd\n",
        "import matplotlib.pyplot as plt\n",
        "import plotly.express as px\n",
        "import datetime as dt\n",
        "import statsmodels.api as sm\n"
      ],
      "execution_count": 10,
      "outputs": []
    },
    {
      "cell_type": "markdown",
      "metadata": {
        "id": "oe7Onq90B_Tj"
      },
      "source": [
        "***Data Cleaning***\n",
        "> In this step, I downloaded the dataset from my original GitHub repository, extracted the columns that I wanted to analyze, and deleted any datapoints that had missing values.\n",
        "\n"
      ]
    },
    {
      "cell_type": "code",
      "metadata": {
        "id": "1t4hwKxIBBQb"
      },
      "source": [
        "#import dataset from GitHub\n",
        "url = 'https://raw.githubusercontent.com/vchen19/snapchat-2018-ad-impressions/main/PoliticalAds.csv'\n",
        "df = pd.read_csv(url)\n",
        "#extract relevant columns\n",
        "df = pd.DataFrame(df, columns = ['Currency Code', 'Spend', 'Impressions', 'StartDate', 'EndDate', 'CountryCode'])\n",
        "#delete rows with NaN values, reset the index to be from 0 incrementing by 1 again\n",
        "df = df.dropna()\n",
        "df = df.reset_index(drop=True)\n"
      ],
      "execution_count": 11,
      "outputs": []
    },
    {
      "cell_type": "markdown",
      "metadata": {
        "id": "5nRN7fb5CbEk"
      },
      "source": [
        "***Finding Advertising Spend in USD***\n",
        "\n",
        "\n",
        "> In this step, I found all the currencies that were represented in the dataset. Then, I found their exchange rates (provided by [Morningstar](https://www.google.com/intl/en/googlefinance/disclaimer/)). Finally, I used these exchange rates to convert all the advertising spend to USD.\n",
        "\n"
      ]
    },
    {
      "cell_type": "code",
      "metadata": {
        "colab": {
          "base_uri": "https://localhost:8080/"
        },
        "id": "oiPEfzCIBKi0",
        "outputId": "55bae5f8-904e-4a73-fdf8-edf084c78975"
      },
      "source": [
        "#determine the unique countries in the dataset\n",
        "unique_country = np.unique(df[\"Currency Code\"])\n",
        "print(unique_country)\n",
        "\n",
        "#convert all advertising spend to USD based on the currency code\n",
        "for i in range(len(df)):\n",
        "  if df.loc[i,\"Currency Code\"] == 'AUD':\n",
        "    df.loc[i,\"Spend\"] = float(df.loc[i,\"Spend\"]) *0.76\n",
        "  elif df.loc[i,\"Currency Code\"] == 'CAD':\n",
        "    df.loc[i,\"Spend\"] = float(df.loc[i,\"Spend\"]) * 0.8\n",
        "  elif df.loc[i,\"Currency Code\"] == 'EUR':\n",
        "    df.loc[i,\"Spend\"] = float(df.loc[i,\"Spend\"]) * 1.19\n",
        "  elif df.loc[i,\"Currency Code\"] == 'GBP':\n",
        "    df.loc[i,\"Spend\"] = float(df.loc[i,\"Spend\"]) * 1.38"
      ],
      "execution_count": 12,
      "outputs": [
        {
          "output_type": "stream",
          "text": [
            "['AUD' 'CAD' 'EUR' 'GBP' 'USD']\n"
          ],
          "name": "stdout"
        }
      ]
    },
    {
      "cell_type": "markdown",
      "metadata": {
        "id": "fsCXHGgKDwc5"
      },
      "source": [
        "***Finding Length of Ad Run***\n",
        "\n",
        "\n",
        "> In this step, I found the length of ad run for all ads by converting the dates to datetime objects and subtracting the end date from the start date. I added this new data column, \"Time\", to the original dataframe\n",
        "\n"
      ]
    },
    {
      "cell_type": "code",
      "metadata": {
        "id": "EILcKe7lBOFu"
      },
      "source": [
        "#break up the start date and end date of the advertisement into year, month, day, hour, minute, second\n",
        "timediff = []\n",
        "for i in range(len(df)):\n",
        "  startyear = int(df.loc[i, \"StartDate\"][0:4])\n",
        "  endyear = int(df.loc[i,\"EndDate\"][0:4])\n",
        "  startmonth = int(df.loc[i,\"StartDate\"][5:7])\n",
        "  endmonth = int(df.loc[i,\"EndDate\"][5:7])\n",
        "  startday = int(df.loc[i,\"StartDate\"][8:10])\n",
        "  endday = int(df.loc[i, \"EndDate\"][8:10])\n",
        "  starthour = int(df.loc[i,\"StartDate\"][11:13])\n",
        "  endhour = int(df.loc[i,\"EndDate\"][11:13])\n",
        "  startmin = int(df.loc[i,\"StartDate\"][14:16])\n",
        "  endmin = int(df.loc[i,\"EndDate\"][14:16])\n",
        "  startsec = int(df.loc[i,\"StartDate\"][17:19])\n",
        "  endsec = int(df.loc[i,\"EndDate\"][17:19])\n",
        "#use date data to convert date to a datetime object\n",
        "  startdate = dt.datetime(startyear, startmonth, startday, starthour, startmin, startsec)\n",
        "  enddate = dt.datetime(endyear, endmonth, endday, endhour, endmin, endsec)\n",
        "#find the time in between the end date and start date to find how long the ad ran\n",
        "  time_diff = enddate - startdate\n",
        "  time_diff_sec = time_diff.total_seconds()\n",
        "  time_diff_sec = float(time_diff_sec)\n",
        "  timediff.append(time_diff_sec)\n",
        "\n",
        "#add the list of length of ad run to the dataframe\n",
        "df['Time'] = timediff"
      ],
      "execution_count": 13,
      "outputs": []
    },
    {
      "cell_type": "markdown",
      "metadata": {
        "id": "VhXZBHDMEGwM"
      },
      "source": [
        "***Plotting Using Plotly Express***\n",
        "\n",
        "\n",
        "> In this step, I plotted impressions against spend with the colors corresponding to the country and the size of the point corresponding to length of ad run. This allowed me to visually analyze whether there were any interesting trends between all of these variables.\n",
        "\n"
      ]
    },
    {
      "cell_type": "code",
      "metadata": {
        "colab": {
          "base_uri": "https://localhost:8080/",
          "height": 542
        },
        "id": "5KQ5L8P2BTFc",
        "outputId": "6527099e-6b2c-4d79-f50e-1d85f85df43f"
      },
      "source": [
        "#plot impressions against spend with the colors corresponding to the country and the size of the point corresponding to length of ad run\n",
        "fig = px.scatter(df, x=\"Spend\", y=\"Impressions\", color = \"CountryCode\", size=\"Time\")\n",
        "\n",
        "#change axis to remove empty space\n",
        "fig.update_yaxes(range=[0, 12000000])\n",
        "fig.show()"
      ],
      "execution_count": 14,
      "outputs": [
        {
          "output_type": "display_data",
          "data": {
            "text/html": [
              "<html>\n",
              "<head><meta charset=\"utf-8\" /></head>\n",
              "<body>\n",
              "    <div>\n",
              "            <script src=\"https://cdnjs.cloudflare.com/ajax/libs/mathjax/2.7.5/MathJax.js?config=TeX-AMS-MML_SVG\"></script><script type=\"text/javascript\">if (window.MathJax) {MathJax.Hub.Config({SVG: {font: \"STIX-Web\"}});}</script>\n",
              "                <script type=\"text/javascript\">window.PlotlyConfig = {MathJaxConfig: 'local'};</script>\n",
              "        <script src=\"https://cdn.plot.ly/plotly-latest.min.js\"></script>    \n",
              "            <div id=\"73f94d7f-0540-43e8-a34c-e28503bb8715\" class=\"plotly-graph-div\" style=\"height:525px; width:100%;\"></div>\n",
              "            <script type=\"text/javascript\">\n",
              "                \n",
              "                    window.PLOTLYENV=window.PLOTLYENV || {};\n",
              "                    \n",
              "                if (document.getElementById(\"73f94d7f-0540-43e8-a34c-e28503bb8715\")) {\n",
              "                    Plotly.newPlot(\n",
              "                        '73f94d7f-0540-43e8-a34c-e28503bb8715',\n",
              "                        [{\"hoverlabel\": {\"namelength\": 0}, \"hovertemplate\": \"CountryCode=united states<br>Spend=%{x}<br>Impressions=%{y}<br>Time=%{marker.size}\", \"legendgroup\": \"CountryCode=united states\", \"marker\": {\"color\": \"#636efa\", \"size\": [2459296.0, 86399.0, 960586.0, 65588.0, 795718.0, 1660986.0, 1660986.0, 536518.0, 556271.0, 1653462.0, 2459296.0, 958335.0, 3540259.0, 1651124.0, 353199.0, 1774800.0, 964450.0, 604800.0, 223200.0, 1658424.0, 245015.0, 469178.0, 627249.0, 274398.0, 353576.0, 1126805.0, 601310.0, 287334.0, 603341.0, 50403.0, 469178.0, 450118.0, 3516465.0, 1141456.0, 795718.0, 2559540.0, 1649751.0, 1496835.0, 2290047.0, 1105200.0, 855405.0, 2559540.0, 274116.0, 259198.0, 1655114.0, 3540259.0, 453551.0, 556271.0, 453525.0, 353199.0, 353576.0, 86400.0, 622918.0, 601304.0, 1496835.0, 968518.0, 1651618.0, 2559540.0, 877005.0, 3540259.0, 622918.0, 1774800.0, 1774800.0, 3373503.0, 1296237.0, 259198.0, 622918.0, 469178.0, 25068.0, 1774800.0, 259198.0, 676701.0, 2559540.0, 1126805.0, 3513303.0, 3516465.0, 1299451.0, 1651988.0, 1652975.0, 964450.0, 2559540.0, 432000.0, 895461.0, 2459296.0, 86400.0, 1475386.0, 518136.0, 3373503.0, 85673.0, 71999.0, 1213164.0, 658503.0, 2559540.0, 353576.0, 352473.0, 287334.0, 622918.0, 795718.0, 964450.0, 453551.0, 956986.0, 1360740.0, 1565386.0, 353199.0, 1274340.0, 86399.0, 622918.0, 8557200.0, 1127276.0, 1288185.0, 964186.0, 86400.0, 1105200.0, 2772999.0, 1667865.0, 1664284.0, 323998.0, 1664284.0, 353576.0, 877001.0, 187200.0, 1651988.0, 1653921.0, 1126916.0, 1651618.0, 676701.0, 1658424.0, 2619391.0, 86400.0, 2422800.0, 877001.0, 2559540.0, 255634.0, 265117.0, 1021847.0, 4377600.0, 824348.0, 1649751.0, 556271.0, 877001.0, 2619391.0, 1052319.0, 1665291.0, 2559540.0, 2459296.0, 4961192.0, 323998.0, 3513303.0, 24552.0, 1667865.0, 956986.0, 877005.0, 24552.0, 740777.0, 86400.0, 964450.0, 964450.0, 262798.0, 3458553.0, 1774800.0, 627249.0, 387049.0, 964450.0, 956986.0, 1659833.0, 676701.0, 1659519.0, 1662520.0, 964450.0, 1158717.0, 469178.0, 2459296.0, 1774800.0, 353576.0, 796983.0, 1701093.0, 1496835.0, 958335.0, 1288185.0, 370975.0, 1663342.0, 601304.0, 964450.0, 1744786.0, 353576.0, 2771299.0, 1385985.0, 779150.0, 353576.0, 1658922.0, 262798.0, 370975.0, 259198.0, 431405.0, 622918.0, 604779.0, 557549.0, 556271.0, 3540259.0, 258900.0, 779150.0, 968518.0, 676701.0, 2559540.0, 1299260.0, 3540259.0, 353199.0, 2559540.0, 2459296.0, 1105200.0, 1141456.0, 517075.0, 796983.0, 83868.0, 61140.0, 627249.0, 2290047.0, 2459296.0, 353576.0, 266537.0, 86399.0, 4961192.0, 1660269.0, 353576.0, 453551.0, 2451540.0, 1666599.0, 2328569.0, 86400.0, 2203647.0, 1158874.0, 1665291.0, 1653462.0, 4961192.0, 1657415.0, 964450.0, 223200.0, 2459296.0, 265117.0, 4607090.0, 86400.0, 1667643.0, 3516465.0, 1288185.0, 3583744.0, 706778.0, 2459296.0, 824348.0, 303620.0, 958335.0, 1653921.0, 815324.0, 432074.0, 3583744.0, 357669.0, 1774800.0, 1653462.0, 874186.0, 1101540.0, 2559540.0, 2619391.0, 3540259.0, 25068.0, 86400.0, 298800.0, 107940.0, 86400.0, 604800.0, 658503.0, 964450.0, 1274340.0, 2771299.0, 1382637.0, 3514116.0, 265117.0, 1658922.0, 298800.0, 86400.0, 2845915.0, 518136.0, 453551.0, 311400.0, 259198.0, 687157.0, 287334.0, 2290047.0, 353576.0, 604800.0, 855405.0, 353576.0, 3540259.0, 2465837.0, 104132.0, 265529.0, 604800.0, 1659519.0, 1774800.0, 311400.0, 629800.0, 3540259.0, 1660269.0, 82374.0, 1046986.0, 450118.0, 1658036.0, 1133511.0, 706778.0, 265117.0, 2845915.0, 368013.0, 292314.0, 964450.0, 2771299.0, 259198.0, 180836.0, 2459296.0, 3513303.0, 2845915.0, 223200.0, 262798.0, 795718.0, 2559540.0, 287880.0, 23526004.0, 1141456.0, 3056400.0, 1654620.0, 1046363.0, 1036800.0, 2559540.0, 86399.0, 357532.0, 2692186.0, 1296237.0, 108684.0, 1382400.0, 2422800.0, 968518.0, 350862.0, 1774800.0, 86238.0, 964450.0, 293400.0, 1662520.0, 1477542.0, 71999.0, 1105200.0, 2459296.0, 622918.0, 3540259.0, 1127620.0, 562943.0, 469178.0, 1158717.0, 1127276.0, 1150314.0, 1681421.0, 453551.0, 453551.0, 880786.0, 86399.0, 1127620.0, 107501.0, 556271.0, 864000.0, 622918.0, 1774800.0, 53999.0, 958335.0, 86399.0, 432074.0, 1126916.0, 1663342.0, 622918.0, 370976.0, 1288185.0, 259198.0, 86400.0, 1291955.0, 958335.0, 1774800.0, 3540259.0, 1728000.0, 90000.0, 1652975.0, 556271.0, 25068.0, 2559540.0, 262798.0, 90228.0, 1774800.0, 3516465.0, 287334.0, 469178.0, 691437.0, 353576.0, 544673.0, 71999.0, 168322.0, 2619391.0, 795718.0, 544295.0, 1216186.0, 960586.0, 370973.0, 2559540.0, 1652609.0, 779150.0, 2559540.0, 1155117.0, 3514116.0, 107930.0, 958335.0, 795718.0, 1127620.0, 444600.0, 265529.0, 1774800.0, 1672429.0, 2559540.0, 956986.0, 518136.0, 945175.0, 3583744.0, 2083786.0, 3583744.0, 433058.0, 1659833.0, 469178.0, 3514116.0, 1701093.0, 71999.0, 265529.0, 67511.0, 2695182.0, 1378354.0, 469178.0, 2290047.0, 3513303.0, 72001.0, 3583744.0], \"sizemode\": \"area\", \"sizeref\": 79920.7475, \"symbol\": \"circle\"}, \"mode\": \"markers\", \"name\": \"CountryCode=united states\", \"showlegend\": true, \"type\": \"scatter\", \"x\": [867.0, 87.0, 60.0, 73.0, 53.0, 609.0, 890.0, 49.0, 1382.0, 2048.0, 443.0, 585.0, 448.0, 924.0, 156.0, 797.0, 308.0, 293.0, 149.0, 886.0, 3706.0, 3901.0, 93.0, 394.0, 4.0, 651.0, 57.0, 226.0, 217.0, 148.0, 6096.0, 76.0, 4168.0, 852.0, 107.0, 30.0, 531.0, 32.0, 1249.0, 6222.0, 570.0, 194.0, 421.0, 369.0, 776.0, 17.0, 343.0, 2134.0, 1041.0, 10.0, 49.0, 26.0, 85.0, 165.0, 66.0, 88.0, 978.0, 17.0, 15527.0, 434.0, 57.0, 2310.0, 2617.0, 1910.0, 402.0, 69.0, 148.0, 8547.0, 5.0, 852.0, 68.0, 645.0, 129.0, 341.0, 422.0, 3621.0, 1913.0, 1003.0, 580.0, 149.0, 196.0, 890.0, 2499.0, 850.0, 114.0, 60.0, 1289.0, 1822.0, 50.0, 5.0, 699.0, 1095.0, 6.0, 14.0, 3698.0, 320.0, 205.0, 132.0, 11977.0, 2307.0, 56.0, 1804.0, 56.0, 31.0, 952.0, 285.0, 9.0, 7497.0, 3851.0, 252.0, 57.0, 43.0, 128.0, 1276.0, 2575.0, 918.0, 1482.0, 581.0, 111.0, 1058.0, 415.0, 996.0, 410.0, 4531.0, 571.0, 988.0, 663.0, 853.0, 162.0, 9939.0, 2492.0, 45.0, 56.0, 392.0, 157.0, 7018.0, 7802.0, 618.0, 3403.0, 1039.0, 513.0, 23742.0, 815.0, 18.0, 250.0, 361.0, 517.0, 1062.0, 21.0, 656.0, 61.0, 7542.0, 12.0, 971.0, 68.0, 9277.0, 510.0, 77.0, 1999.0, 718.0, 1044.0, 7.0, 39.0, 60.0, 6473.0, 365.0, 1016.0, 668.0, 1450.0, 90.0, 1656.0, 781.0, 651.0, 12.0, 780.0, 2199.0, 780.0, 606.0, 298.0, 55.0, 1076.0, 173.0, 2143.0, 58.0, 23.0, 8226.0, 417.0, 2014.0, 10.0, 706.0, 340.0, 45.0, 486.0, 749.0, 40.0, 349.0, 349.0, 1116.0, 280.0, 113.0, 867.0, 78.0, 248.0, 639.0, 5667.0, 116.0, 29.0, 327.0, 1706.0, 438.0, 1045.0, 21.0, 766.0, 355.0, 78.0, 8662.0, 1249.0, 451.0, 27.0, 897.0, 75.0, 2045.0, 971.0, 2.0, 2278.0, 2048.0, 134.0, 2897.0, 141.0, 1299.0, 396.0, 659.0, 2805.0, 942.0, 832.0, 496.0, 149.0, 558.0, 561.0, 1700.0, 164.0, 4361.0, 4486.0, 820.0, 2536.0, 2716.0, 445.0, 6829.0, 30.0, 360.0, 258.0, 499.0, 352.0, 6590.0, 103.0, 860.0, 1571.0, 58.0, 1299.0, 19.0, 257.0, 94.0, 8.0, 35.0, 54.0, 50.0, 95.0, 1000.0, 1147.0, 345.0, 971.0, 6743.0, 250.0, 2077.0, 195.0, 743.0, 11.0, 11.0, 957.0, 15147.0, 327.0, 56.0, 17.0, 18.0, 742.0, 1249.0, 22.0, 65.0, 372.0, 20.0, 254.0, 1000.0, 238.0, 72.0, 349.0, 983.0, 2360.0, 76.0, 1251.0, 44.0, 528.0, 174.0, 58.0, 41.0, 616.0, 316.0, 21993.0, 372.0, 1223.0, 4749.0, 453.0, 34.0, 1554.0, 50.0, 87.0, 717.0, 461.0, 1522.0, 82.0, 555.0, 50.0, 134.0, 143.0, 2945.0, 1167.0, 1721.0, 746.0, 999.0, 534.0, 14.0, 315.0, 137.0, 60.0, 37.0, 15.0, 999.0, 1449.0, 196.0, 689.0, 541.0, 34.0, 21546.0, 63.0, 781.0, 6538.0, 26.0, 5795.0, 924.0, 38.0, 22.0, 1896.0, 189.0, 3529.0, 1018.0, 4179.0, 1299.0, 63.0, 775.0, 1003.0, 59.0, 115.0, 1203.0, 132.0, 1615.0, 499.0, 207.0, 3534.0, 66.0, 501.0, 226.0, 279.0, 1386.0, 623.0, 78.0, 36.0, 847.0, 50.0, 120.0, 29.0, 269.0, 1161.0, 85.0, 999.0, 150.0, 606.0, 2846.0, 35.0, 39.0, 236.0, 100.0, 996.0, 8723.0, 379.0, 2431.0, 87.0, 21.0, 92.0, 39.0, 1400.0, 1222.0, 69.0, 87.0, 60.0, 62.0, 10.0, 98.0, 575.0, 4633.0, 11.0, 100.0, 1792.0, 77.0, 394.0, 37.0, 1273.0, 349.0, 109.0, 277.0, 1000.0, 504.0, 59.0, 705.0, 500.0, 3939.0, 58.0, 1564.0, 165.0, 2509.0, 5053.0, 1127.0, 1800.0, 164.0, 159.0, 103.0, 64.0, 37.0, 6062.0, 1249.0, 53.0, 499.0, 369.0], \"xaxis\": \"x\", \"y\": [357845, 23414, 12883, 17234, 5150, 54108, 82459, 7527, 441323, 186004, 186022, 84750, 130950, 86689, 57789, 159527, 67946, 55071, 49859, 78266, 972310, 1105317, 15570, 181087, 887, 91553, 20718, 77889, 58544, 36028, 1929033, 10541, 1143870, 228193, 19452, 10681, 47745, 3286, 274231, 896410, 121582, 69792, 193836, 166104, 67370, 5776, 111587, 598413, 212366, 3536, 17329, 8082, 12478, 58038, 5650, 12653, 92681, 5888, 5368948, 121057, 6134, 248126, 341437, 297010, 77716, 30858, 18992, 2280127, 2583, 138288, 31208, 114978, 43003, 56610, 123630, 857675, 886571, 96140, 51169, 14800, 65718, 893164, 1110812, 343556, 35663, 13294, 325683, 397479, 24354, 2883, 323334, 290781, 2216, 4958, 573475, 126664, 31789, 16923, 3373594, 631708, 12377, 508767, 11770, 10695, 107570, 83035, 1521, 3836896, 1051036, 71739, 11207, 13199, 6054, 494076, 459303, 80405, 415129, 49360, 36369, 186246, 86714, 94458, 37592, 1181641, 51421, 179410, 57350, 203723, 51130, 8735197, 377236, 16229, 14071, 129232, 55508, 2600786, 1646894, 55443, 964607, 189333, 300603, 3452533, 72711, 6277, 107027, 113000, 154532, 293371, 8202, 59908, 13396, 2893002, 4682, 265217, 17305, 2051686, 123200, 27808, 647881, 180098, 137185, 3094, 7418, 11742, 548536, 68135, 98397, 57311, 357852, 18934, 456576, 346914, 88101, 2904, 184526, 620125, 57983, 79070, 77563, 15862, 104552, 54927, 443564, 11954, 9316, 3550159, 123557, 720656, 3626, 63281, 198456, 13965, 289305, 183363, 4777, 109669, 161916, 365071, 81077, 21076, 195969, 15584, 42689, 221449, 1848261, 36514, 10014, 102451, 691458, 27474, 309853, 5885, 190026, 82840, 23854, 1163232, 298990, 180115, 8841, 252799, 26372, 541845, 91817, 553, 686585, 612521, 19330, 1567430, 44726, 413862, 79225, 58543, 445628, 263576, 75553, 98274, 37189, 228469, 166462, 789334, 56566, 397340, 1211144, 194210, 731373, 431024, 190283, 1437393, 7309, 52012, 23578, 232675, 120695, 1785391, 23669, 152848, 142335, 12007, 704800, 6706, 63435, 30628, 3924, 10727, 23185, 20573, 29772, 274592, 307473, 87750, 99454, 3149886, 56849, 560549, 59433, 66358, 5307, 3309, 519867, 4255156, 93339, 22675, 10358, 4206, 248177, 356767, 7332, 24772, 77311, 4759, 75742, 187796, 84037, 28292, 104476, 93776, 311317, 29823, 221925, 14807, 47174, 33071, 13423, 6202, 53944, 47554, 4477090, 127804, 664315, 1255809, 106896, 6738, 751539, 31307, 20943, 304845, 128029, 886690, 18729, 195245, 7131, 44081, 49094, 1264403, 318943, 802812, 66622, 309310, 246662, 5397, 93493, 22537, 13742, 7917, 6616, 463769, 1247543, 23810, 197309, 90814, 12455, 5219658, 25552, 67692, 2512351, 11664, 467760, 399010, 4251, 8008, 511362, 17428, 943349, 221203, 990392, 705435, 839, 229754, 215828, 12482, 37149, 354027, 36703, 475773, 235579, 27035, 664276, 22167, 63925, 69710, 94161, 411599, 55373, 15060, 11374, 206049, 22945, 32390, 5461, 40118, 235578, 30930, 342217, 40041, 53508, 849555, 16678, 13215, 87982, 48199, 105047, 2413753, 136923, 500887, 24323, 6510, 32732, 17643, 352871, 251477, 11429, 31654, 14793, 13545, 3545, 34292, 50421, 1380406, 4056, 16416, 486548, 31856, 64265, 5149, 409150, 88219, 40236, 53211, 359270, 171604, 13306, 178456, 146415, 1147663, 12350, 400446, 49446, 222664, 1637808, 318124, 545340, 73010, 57119, 32379, 15363, 8798, 1438857, 323021, 15015, 150711, 95996], \"yaxis\": \"y\"}, {\"hoverlabel\": {\"namelength\": 0}, \"hovertemplate\": \"CountryCode=canada<br>Spend=%{x}<br>Impressions=%{y}<br>Time=%{marker.size}\", \"legendgroup\": \"CountryCode=canada\", \"marker\": {\"color\": \"#EF553B\", \"size\": [7022806.0, 3905346.0, 7022806.0, 1073739.0, 3905346.0, 3345184.0, 6525874.0, 6525874.0, 6525874.0, 3905346.0, 7022806.0, 6525874.0, 3905346.0, 12610805.0, 6525874.0, 3905346.0, 3905346.0, 6525874.0, 3905346.0, 1039721.0, 7022806.0, 3905346.0, 6948183.0, 3905346.0, 3905335.0, 604800.0], \"sizemode\": \"area\", \"sizeref\": 79920.7475, \"symbol\": \"circle\"}, \"mode\": \"markers\", \"name\": \"CountryCode=canada\", \"showlegend\": true, \"type\": \"scatter\", \"x\": [725.6, 179.20000000000002, 581.6, 0.0, 253.60000000000002, 3664.0, 0.0, 12.8, 1023.2, 734.4000000000001, 1444.0, 2046.4, 254.4, 290.40000000000003, 0.8, 254.4, 112.80000000000001, 95.2, 400.8, 318.40000000000003, 908.8000000000001, 474.40000000000003, 804.0, 242.4, 151.20000000000002, 4000.0], \"xaxis\": \"x\", \"y\": [263526, 137147, 215743, 734, 181836, 4289009, 155, 8529, 623479, 732853, 949148, 1424973, 178223, 125023, 747, 194332, 86455, 67449, 293106, 99081, 665500, 359611, 603893, 183780, 123496, 2691949], \"yaxis\": \"y\"}, {\"hoverlabel\": {\"namelength\": 0}, \"hovertemplate\": \"CountryCode=netherlands<br>Spend=%{x}<br>Impressions=%{y}<br>Time=%{marker.size}\", \"legendgroup\": \"CountryCode=netherlands\", \"marker\": {\"color\": \"#00cc96\", \"size\": [1209600.0, 4084231.0, 2205331.0, 4084231.0, 4084231.0, 4084231.0, 567268.0, 1668409.0, 4084231.0, 567268.0, 1208644.0, 4084231.0, 4084231.0, 1668409.0, 4084231.0, 4084231.0, 1668409.0, 2205331.0, 205660.0, 567268.0, 4084231.0], \"sizemode\": \"area\", \"sizeref\": 79920.7475, \"symbol\": \"circle\"}, \"mode\": \"markers\", \"name\": \"CountryCode=netherlands\", \"showlegend\": true, \"type\": \"scatter\", \"x\": [531.93, 267.75, 635.4599999999999, 94.00999999999999, 5.949999999999999, 3348.66, 838.9499999999999, 366.52, 65.45, 196.35, 531.93, 82.11, 97.58, 341.53, 53.55, 30.939999999999998, 170.17, 465.28999999999996, 712.81, 27.369999999999997, 34.51], \"xaxis\": \"x\", \"y\": [339296, 91148, 226202, 32453, 3398, 1163315, 665106, 217504, 23980, 150559, 348786, 24144, 32938, 205209, 20612, 12341, 105640, 172637, 346883, 23864, 12674], \"yaxis\": \"y\"}, {\"hoverlabel\": {\"namelength\": 0}, \"hovertemplate\": \"CountryCode=denmark<br>Spend=%{x}<br>Impressions=%{y}<br>Time=%{marker.size}\", \"legendgroup\": \"CountryCode=denmark\", \"marker\": {\"color\": \"#ab63fa\", \"size\": [8815912.0, 8815912.0, 8815912.0, 1209600.0, 8815912.0, 8815912.0, 8815912.0, 1735203.0, 1123202.0, 8815912.0, 8815912.0, 1123202.0, 8815912.0, 8815912.0, 1209607.0, 1209607.0, 1209607.0, 8815912.0, 1123202.0, 1209607.0, 8815912.0, 8815912.0, 1123202.0, 8815912.0, 8815912.0, 1209607.0], \"sizemode\": \"area\", \"sizeref\": 79920.7475, \"symbol\": \"circle\"}, \"mode\": \"markers\", \"name\": \"CountryCode=denmark\", \"showlegend\": true, \"type\": \"scatter\", \"x\": [1128.12, 1357.79, 1061.48, 7140.0, 1104.32, 1137.6399999999999, 1060.29, 2389.52, 3312.96, 1225.7, 1098.37, 1418.48, 1046.01, 1368.5, 903.2099999999999, 2846.48, 1779.05, 1053.1499999999999, 1605.31, 260.61, 1337.56, 1524.3899999999999, 800.87, 1166.2, 1266.1599999999999, 1347.08], \"xaxis\": \"x\", \"y\": [548048, 676344, 512062, 2080852, 527439, 548364, 500625, 804011, 908208, 614590, 521729, 391140, 510476, 636804, 285071, 658619, 443631, 498355, 390135, 108884, 649626, 762206, 223919, 541524, 633893, 490719], \"yaxis\": \"y\"}, {\"hoverlabel\": {\"namelength\": 0}, \"hovertemplate\": \"CountryCode=united kingdom<br>Spend=%{x}<br>Impressions=%{y}<br>Time=%{marker.size}\", \"legendgroup\": \"CountryCode=united kingdom\", \"marker\": {\"color\": \"#FFA15A\", \"size\": [4060774.0, 4089510.0, 4060774.0, 518363.0, 4089510.0, 805187.0, 2159439.0, 4060774.0, 2969389.0, 309587.0, 2591872.0, 1468372.0, 2030402.0, 2591872.0, 4060774.0, 4060774.0, 4089510.0, 655282.0, 805187.0, 2030402.0, 3167001.0, 2419200.0, 2591872.0, 4060774.0, 2030402.0, 4089510.0, 4060774.0, 3110400.0, 228308.0, 4089510.0, 4089510.0, 31968299.0, 2591872.0, 2591872.0, 518363.0, 4089510.0], \"sizemode\": \"area\", \"sizeref\": 79920.7475, \"symbol\": \"circle\"}, \"mode\": \"markers\", \"name\": \"CountryCode=united kingdom\", \"showlegend\": true, \"type\": \"scatter\", \"x\": [9.66, 343.61999999999995, 42.779999999999994, 351.9, 186.29999999999998, 538.1999999999999, 1853.34, 169.73999999999998, 4286.28, 59.5, 467.81999999999994, 64.86, 3209.8799999999997, 1484.8799999999999, 13.799999999999999, 80.03999999999999, 0.0, 572.6999999999999, 162.83999999999997, 1567.6799999999998, 2540.58, 6447.36, 2638.56, 614.0999999999999, 2016.1799999999998, 251.15999999999997, 0.0, 2521.2599999999998, 204.23999999999998, 35.879999999999995, 11.04, 13799.999999999998, 1186.8, 507.84, 336.71999999999997, 9.66], \"xaxis\": \"x\", \"y\": [3858, 141258, 16343, 142929, 77663, 162319, 1429115, 56913, 3822930, 25361, 256805, 24629, 1100436, 815677, 7059, 30679, 15, 578436, 48450, 466163, 942656, 7350690, 1449226, 232906, 591977, 109295, 3, 955322, 82083, 18218, 5075, 9981576, 651775, 278565, 122810, 4577], \"yaxis\": \"y\"}, {\"hoverlabel\": {\"namelength\": 0}, \"hovertemplate\": \"CountryCode=nigeria<br>Spend=%{x}<br>Impressions=%{y}<br>Time=%{marker.size}\", \"legendgroup\": \"CountryCode=nigeria\", \"marker\": {\"color\": \"#19d3f3\", \"size\": [820792.0, 3474841.0, 3474841.0, 312862.0, 633224.0, 820792.0, 820792.0, 3474841.0], \"sizemode\": \"area\", \"sizeref\": 79920.7475, \"symbol\": \"circle\"}, \"mode\": \"markers\", \"name\": \"CountryCode=nigeria\", \"showlegend\": true, \"type\": \"scatter\", \"x\": [127.0, 5.0, 60.0, 9.0, 292.0, 17.0, 6.0, 10.0], \"xaxis\": \"x\", \"y\": [41016, 1414, 15116, 6312, 208211, 11843, 4846, 3842], \"yaxis\": \"y\"}, {\"hoverlabel\": {\"namelength\": 0}, \"hovertemplate\": \"CountryCode=norway<br>Spend=%{x}<br>Impressions=%{y}<br>Time=%{marker.size}\", \"legendgroup\": \"CountryCode=norway\", \"marker\": {\"color\": \"#FF6692\", \"size\": [1755200.0, 1755200.0, 1755200.0, 345474.0, 1755200.0], \"sizemode\": \"area\", \"sizeref\": 79920.7475, \"symbol\": \"circle\"}, \"mode\": \"markers\", \"name\": \"CountryCode=norway\", \"showlegend\": true, \"type\": \"scatter\", \"x\": [2932.16, 2935.73, 2938.1099999999997, 238.0, 2933.35], \"xaxis\": \"x\", \"y\": [1698498, 1772583, 1738967, 249707, 1533551], \"yaxis\": \"y\"}, {\"hoverlabel\": {\"namelength\": 0}, \"hovertemplate\": \"CountryCode=france<br>Spend=%{x}<br>Impressions=%{y}<br>Time=%{marker.size}\", \"legendgroup\": \"CountryCode=france\", \"marker\": {\"color\": \"#B6E880\", \"size\": [374340.0, 374340.0, 1090752.0, 374340.0, 626876.0], \"sizemode\": \"area\", \"sizeref\": 79920.7475, \"symbol\": \"circle\"}, \"mode\": \"markers\", \"name\": \"CountryCode=france\", \"showlegend\": true, \"type\": \"scatter\", \"x\": [1802.85, 1180.48, 2380.0, 1165.01, 21381.92], \"xaxis\": \"x\", \"y\": [1026527, 736403, 2934662, 783581, 15322232], \"yaxis\": \"y\"}, {\"hoverlabel\": {\"namelength\": 0}, \"hovertemplate\": \"CountryCode=ireland<br>Spend=%{x}<br>Impressions=%{y}<br>Time=%{marker.size}\", \"legendgroup\": \"CountryCode=ireland\", \"marker\": {\"color\": \"#FF97FF\", \"size\": [223225.0, 197387.0, 397830.0, 309632.0, 197460.0, 432049.0, 199033.0], \"sizemode\": \"area\", \"sizeref\": 79920.7475, \"symbol\": \"circle\"}, \"mode\": \"markers\", \"name\": \"CountryCode=ireland\", \"showlegend\": true, \"type\": \"scatter\", \"x\": [9.52, 17.849999999999998, 46.41, 38.08, 13.09, 84.49, 35.699999999999996], \"xaxis\": \"x\", \"y\": [7844, 13348, 24846, 23622, 11068, 36931, 30488], \"yaxis\": \"y\"}, {\"hoverlabel\": {\"namelength\": 0}, \"hovertemplate\": \"CountryCode=sweden<br>Spend=%{x}<br>Impressions=%{y}<br>Time=%{marker.size}\", \"legendgroup\": \"CountryCode=sweden\", \"marker\": {\"color\": \"#FECB52\", \"size\": [1546183.0, 1639783.0, 1546183.0, 474358.0, 1546183.0, 950213.0], \"sizemode\": \"area\", \"sizeref\": 79920.7475, \"symbol\": \"circle\"}, \"mode\": \"markers\", \"name\": \"CountryCode=sweden\", \"showlegend\": true, \"type\": \"scatter\", \"x\": [2.38, 3.57, 290.36, 69.02, 0.0, 593.0], \"xaxis\": \"x\", \"y\": [1301, 1660, 105055, 21238, 299, 242727], \"yaxis\": \"y\"}, {\"hoverlabel\": {\"namelength\": 0}, \"hovertemplate\": \"CountryCode=switzerland<br>Spend=%{x}<br>Impressions=%{y}<br>Time=%{marker.size}\", \"legendgroup\": \"CountryCode=switzerland\", \"marker\": {\"color\": \"#636efa\", \"size\": [345556.0, 777512.0, 432000.0, 403123.0, 338289.0, 604800.0], \"sizemode\": \"area\", \"sizeref\": 79920.7475, \"symbol\": \"circle\"}, \"mode\": \"markers\", \"name\": \"CountryCode=switzerland\", \"showlegend\": true, \"type\": \"scatter\", \"x\": [415.31, 20.23, 297.5, 414.12, 297.5, 120.19], \"xaxis\": \"x\", \"y\": [295307, 23805, 284533, 232744, 156919, 91043], \"yaxis\": \"y\"}, {\"hoverlabel\": {\"namelength\": 0}, \"hovertemplate\": \"CountryCode=australia<br>Spend=%{x}<br>Impressions=%{y}<br>Time=%{marker.size}\", \"legendgroup\": \"CountryCode=australia\", \"marker\": {\"color\": \"#EF553B\", \"size\": [1209599.0, 1209599.0, 518401.0], \"sizemode\": \"area\", \"sizeref\": 79920.7475, \"symbol\": \"circle\"}, \"mode\": \"markers\", \"name\": \"CountryCode=australia\", \"showlegend\": true, \"type\": \"scatter\", \"x\": [1096.0, 1025.0, 266.0], \"xaxis\": \"x\", \"y\": [365035, 335092, 158924], \"yaxis\": \"y\"}, {\"hoverlabel\": {\"namelength\": 0}, \"hovertemplate\": \"CountryCode=belgium<br>Spend=%{x}<br>Impressions=%{y}<br>Time=%{marker.size}\", \"legendgroup\": \"CountryCode=belgium\", \"marker\": {\"color\": \"#00cc96\", \"size\": [1628133.0], \"sizemode\": \"area\", \"sizeref\": 79920.7475, \"symbol\": \"circle\"}, \"mode\": \"markers\", \"name\": \"CountryCode=belgium\", \"showlegend\": true, \"type\": \"scatter\", \"x\": [5895.259999999999], \"xaxis\": \"x\", \"y\": [3600057], \"yaxis\": \"y\"}, {\"hoverlabel\": {\"namelength\": 0}, \"hovertemplate\": \"CountryCode=iraq<br>Spend=%{x}<br>Impressions=%{y}<br>Time=%{marker.size}\", \"legendgroup\": \"CountryCode=iraq\", \"marker\": {\"color\": \"#ab63fa\", \"size\": [208725.0], \"sizemode\": \"area\", \"sizeref\": 79920.7475, \"symbol\": \"circle\"}, \"mode\": \"markers\", \"name\": \"CountryCode=iraq\", \"showlegend\": true, \"type\": \"scatter\", \"x\": [102.0], \"xaxis\": \"x\", \"y\": [98863], \"yaxis\": \"y\"}],\n",
              "                        {\"legend\": {\"itemsizing\": \"constant\", \"tracegroupgap\": 0}, \"margin\": {\"t\": 60}, \"template\": {\"data\": {\"bar\": [{\"error_x\": {\"color\": \"#2a3f5f\"}, \"error_y\": {\"color\": \"#2a3f5f\"}, \"marker\": {\"line\": {\"color\": \"#E5ECF6\", \"width\": 0.5}}, \"type\": \"bar\"}], \"barpolar\": [{\"marker\": {\"line\": {\"color\": \"#E5ECF6\", \"width\": 0.5}}, \"type\": \"barpolar\"}], \"carpet\": [{\"aaxis\": {\"endlinecolor\": \"#2a3f5f\", \"gridcolor\": \"white\", \"linecolor\": \"white\", \"minorgridcolor\": \"white\", \"startlinecolor\": \"#2a3f5f\"}, \"baxis\": {\"endlinecolor\": \"#2a3f5f\", \"gridcolor\": \"white\", \"linecolor\": \"white\", \"minorgridcolor\": \"white\", \"startlinecolor\": \"#2a3f5f\"}, \"type\": \"carpet\"}], \"choropleth\": [{\"colorbar\": {\"outlinewidth\": 0, \"ticks\": \"\"}, \"type\": \"choropleth\"}], \"contour\": [{\"colorbar\": {\"outlinewidth\": 0, \"ticks\": \"\"}, \"colorscale\": [[0.0, \"#0d0887\"], [0.1111111111111111, \"#46039f\"], [0.2222222222222222, \"#7201a8\"], [0.3333333333333333, \"#9c179e\"], [0.4444444444444444, \"#bd3786\"], [0.5555555555555556, \"#d8576b\"], [0.6666666666666666, \"#ed7953\"], [0.7777777777777778, \"#fb9f3a\"], [0.8888888888888888, \"#fdca26\"], [1.0, \"#f0f921\"]], \"type\": \"contour\"}], \"contourcarpet\": [{\"colorbar\": {\"outlinewidth\": 0, \"ticks\": \"\"}, \"type\": \"contourcarpet\"}], \"heatmap\": [{\"colorbar\": {\"outlinewidth\": 0, \"ticks\": \"\"}, \"colorscale\": [[0.0, \"#0d0887\"], [0.1111111111111111, \"#46039f\"], [0.2222222222222222, \"#7201a8\"], [0.3333333333333333, \"#9c179e\"], [0.4444444444444444, \"#bd3786\"], [0.5555555555555556, \"#d8576b\"], [0.6666666666666666, \"#ed7953\"], [0.7777777777777778, \"#fb9f3a\"], [0.8888888888888888, \"#fdca26\"], [1.0, \"#f0f921\"]], \"type\": \"heatmap\"}], \"heatmapgl\": [{\"colorbar\": {\"outlinewidth\": 0, \"ticks\": \"\"}, \"colorscale\": [[0.0, \"#0d0887\"], [0.1111111111111111, \"#46039f\"], [0.2222222222222222, \"#7201a8\"], [0.3333333333333333, \"#9c179e\"], [0.4444444444444444, \"#bd3786\"], [0.5555555555555556, \"#d8576b\"], [0.6666666666666666, \"#ed7953\"], [0.7777777777777778, \"#fb9f3a\"], [0.8888888888888888, \"#fdca26\"], [1.0, \"#f0f921\"]], \"type\": \"heatmapgl\"}], \"histogram\": [{\"marker\": {\"colorbar\": {\"outlinewidth\": 0, \"ticks\": \"\"}}, \"type\": \"histogram\"}], \"histogram2d\": [{\"colorbar\": {\"outlinewidth\": 0, \"ticks\": \"\"}, \"colorscale\": [[0.0, \"#0d0887\"], [0.1111111111111111, \"#46039f\"], [0.2222222222222222, \"#7201a8\"], [0.3333333333333333, \"#9c179e\"], [0.4444444444444444, \"#bd3786\"], [0.5555555555555556, \"#d8576b\"], [0.6666666666666666, \"#ed7953\"], [0.7777777777777778, \"#fb9f3a\"], [0.8888888888888888, \"#fdca26\"], [1.0, \"#f0f921\"]], \"type\": \"histogram2d\"}], \"histogram2dcontour\": [{\"colorbar\": {\"outlinewidth\": 0, \"ticks\": \"\"}, \"colorscale\": [[0.0, \"#0d0887\"], [0.1111111111111111, \"#46039f\"], [0.2222222222222222, \"#7201a8\"], [0.3333333333333333, \"#9c179e\"], [0.4444444444444444, \"#bd3786\"], [0.5555555555555556, \"#d8576b\"], [0.6666666666666666, \"#ed7953\"], [0.7777777777777778, \"#fb9f3a\"], [0.8888888888888888, \"#fdca26\"], [1.0, \"#f0f921\"]], \"type\": \"histogram2dcontour\"}], \"mesh3d\": [{\"colorbar\": {\"outlinewidth\": 0, \"ticks\": \"\"}, \"type\": \"mesh3d\"}], \"parcoords\": [{\"line\": {\"colorbar\": {\"outlinewidth\": 0, \"ticks\": \"\"}}, \"type\": \"parcoords\"}], \"pie\": [{\"automargin\": true, \"type\": \"pie\"}], \"scatter\": [{\"marker\": {\"colorbar\": {\"outlinewidth\": 0, \"ticks\": \"\"}}, \"type\": \"scatter\"}], \"scatter3d\": [{\"line\": {\"colorbar\": {\"outlinewidth\": 0, \"ticks\": \"\"}}, \"marker\": {\"colorbar\": {\"outlinewidth\": 0, \"ticks\": \"\"}}, \"type\": \"scatter3d\"}], \"scattercarpet\": [{\"marker\": {\"colorbar\": {\"outlinewidth\": 0, \"ticks\": \"\"}}, \"type\": \"scattercarpet\"}], \"scattergeo\": [{\"marker\": {\"colorbar\": {\"outlinewidth\": 0, \"ticks\": \"\"}}, \"type\": \"scattergeo\"}], \"scattergl\": [{\"marker\": {\"colorbar\": {\"outlinewidth\": 0, \"ticks\": \"\"}}, \"type\": \"scattergl\"}], \"scattermapbox\": [{\"marker\": {\"colorbar\": {\"outlinewidth\": 0, \"ticks\": \"\"}}, \"type\": \"scattermapbox\"}], \"scatterpolar\": [{\"marker\": {\"colorbar\": {\"outlinewidth\": 0, \"ticks\": \"\"}}, \"type\": \"scatterpolar\"}], \"scatterpolargl\": [{\"marker\": {\"colorbar\": {\"outlinewidth\": 0, \"ticks\": \"\"}}, \"type\": \"scatterpolargl\"}], \"scatterternary\": [{\"marker\": {\"colorbar\": {\"outlinewidth\": 0, \"ticks\": \"\"}}, \"type\": \"scatterternary\"}], \"surface\": [{\"colorbar\": {\"outlinewidth\": 0, \"ticks\": \"\"}, \"colorscale\": [[0.0, \"#0d0887\"], [0.1111111111111111, \"#46039f\"], [0.2222222222222222, \"#7201a8\"], [0.3333333333333333, \"#9c179e\"], [0.4444444444444444, \"#bd3786\"], [0.5555555555555556, \"#d8576b\"], [0.6666666666666666, \"#ed7953\"], [0.7777777777777778, \"#fb9f3a\"], [0.8888888888888888, \"#fdca26\"], [1.0, \"#f0f921\"]], \"type\": \"surface\"}], \"table\": [{\"cells\": {\"fill\": {\"color\": \"#EBF0F8\"}, \"line\": {\"color\": \"white\"}}, \"header\": {\"fill\": {\"color\": \"#C8D4E3\"}, \"line\": {\"color\": \"white\"}}, \"type\": \"table\"}]}, \"layout\": {\"annotationdefaults\": {\"arrowcolor\": \"#2a3f5f\", \"arrowhead\": 0, \"arrowwidth\": 1}, \"coloraxis\": {\"colorbar\": {\"outlinewidth\": 0, \"ticks\": \"\"}}, \"colorscale\": {\"diverging\": [[0, \"#8e0152\"], [0.1, \"#c51b7d\"], [0.2, \"#de77ae\"], [0.3, \"#f1b6da\"], [0.4, \"#fde0ef\"], [0.5, \"#f7f7f7\"], [0.6, \"#e6f5d0\"], [0.7, \"#b8e186\"], [0.8, \"#7fbc41\"], [0.9, \"#4d9221\"], [1, \"#276419\"]], \"sequential\": [[0.0, \"#0d0887\"], [0.1111111111111111, \"#46039f\"], [0.2222222222222222, \"#7201a8\"], [0.3333333333333333, \"#9c179e\"], [0.4444444444444444, \"#bd3786\"], [0.5555555555555556, \"#d8576b\"], [0.6666666666666666, \"#ed7953\"], [0.7777777777777778, \"#fb9f3a\"], [0.8888888888888888, \"#fdca26\"], [1.0, \"#f0f921\"]], \"sequentialminus\": [[0.0, \"#0d0887\"], [0.1111111111111111, \"#46039f\"], [0.2222222222222222, \"#7201a8\"], [0.3333333333333333, \"#9c179e\"], [0.4444444444444444, \"#bd3786\"], [0.5555555555555556, \"#d8576b\"], [0.6666666666666666, \"#ed7953\"], [0.7777777777777778, \"#fb9f3a\"], [0.8888888888888888, \"#fdca26\"], [1.0, \"#f0f921\"]]}, \"colorway\": [\"#636efa\", \"#EF553B\", \"#00cc96\", \"#ab63fa\", \"#FFA15A\", \"#19d3f3\", \"#FF6692\", \"#B6E880\", \"#FF97FF\", \"#FECB52\"], \"font\": {\"color\": \"#2a3f5f\"}, \"geo\": {\"bgcolor\": \"white\", \"lakecolor\": \"white\", \"landcolor\": \"#E5ECF6\", \"showlakes\": true, \"showland\": true, \"subunitcolor\": \"white\"}, \"hoverlabel\": {\"align\": \"left\"}, \"hovermode\": \"closest\", \"mapbox\": {\"style\": \"light\"}, \"paper_bgcolor\": \"white\", \"plot_bgcolor\": \"#E5ECF6\", \"polar\": {\"angularaxis\": {\"gridcolor\": \"white\", \"linecolor\": \"white\", \"ticks\": \"\"}, \"bgcolor\": \"#E5ECF6\", \"radialaxis\": {\"gridcolor\": \"white\", \"linecolor\": \"white\", \"ticks\": \"\"}}, \"scene\": {\"xaxis\": {\"backgroundcolor\": \"#E5ECF6\", \"gridcolor\": \"white\", \"gridwidth\": 2, \"linecolor\": \"white\", \"showbackground\": true, \"ticks\": \"\", \"zerolinecolor\": \"white\"}, \"yaxis\": {\"backgroundcolor\": \"#E5ECF6\", \"gridcolor\": \"white\", \"gridwidth\": 2, \"linecolor\": \"white\", \"showbackground\": true, \"ticks\": \"\", \"zerolinecolor\": \"white\"}, \"zaxis\": {\"backgroundcolor\": \"#E5ECF6\", \"gridcolor\": \"white\", \"gridwidth\": 2, \"linecolor\": \"white\", \"showbackground\": true, \"ticks\": \"\", \"zerolinecolor\": \"white\"}}, \"shapedefaults\": {\"line\": {\"color\": \"#2a3f5f\"}}, \"ternary\": {\"aaxis\": {\"gridcolor\": \"white\", \"linecolor\": \"white\", \"ticks\": \"\"}, \"baxis\": {\"gridcolor\": \"white\", \"linecolor\": \"white\", \"ticks\": \"\"}, \"bgcolor\": \"#E5ECF6\", \"caxis\": {\"gridcolor\": \"white\", \"linecolor\": \"white\", \"ticks\": \"\"}}, \"title\": {\"x\": 0.05}, \"xaxis\": {\"automargin\": true, \"gridcolor\": \"white\", \"linecolor\": \"white\", \"ticks\": \"\", \"title\": {\"standoff\": 15}, \"zerolinecolor\": \"white\", \"zerolinewidth\": 2}, \"yaxis\": {\"automargin\": true, \"gridcolor\": \"white\", \"linecolor\": \"white\", \"ticks\": \"\", \"title\": {\"standoff\": 15}, \"zerolinecolor\": \"white\", \"zerolinewidth\": 2}}}, \"xaxis\": {\"anchor\": \"y\", \"domain\": [0.0, 1.0], \"title\": {\"text\": \"Spend\"}}, \"yaxis\": {\"anchor\": \"x\", \"domain\": [0.0, 1.0], \"range\": [0, 12000000], \"title\": {\"text\": \"Impressions\"}}},\n",
              "                        {\"responsive\": true}\n",
              "                    ).then(function(){\n",
              "                            \n",
              "var gd = document.getElementById('73f94d7f-0540-43e8-a34c-e28503bb8715');\n",
              "var x = new MutationObserver(function (mutations, observer) {{\n",
              "        var display = window.getComputedStyle(gd).display;\n",
              "        if (!display || display === 'none') {{\n",
              "            console.log([gd, 'removed!']);\n",
              "            Plotly.purge(gd);\n",
              "            observer.disconnect();\n",
              "        }}\n",
              "}});\n",
              "\n",
              "// Listen for the removal of the full notebook cells\n",
              "var notebookContainer = gd.closest('#notebook-container');\n",
              "if (notebookContainer) {{\n",
              "    x.observe(notebookContainer, {childList: true});\n",
              "}}\n",
              "\n",
              "// Listen for the clearing of the current output cell\n",
              "var outputEl = gd.closest('.output');\n",
              "if (outputEl) {{\n",
              "    x.observe(outputEl, {childList: true});\n",
              "}}\n",
              "\n",
              "                        })\n",
              "                };\n",
              "                \n",
              "            </script>\n",
              "        </div>\n",
              "</body>\n",
              "</html>"
            ]
          },
          "metadata": {
            "tags": []
          }
        }
      ]
    },
    {
      "cell_type": "markdown",
      "metadata": {
        "id": "oZ8pxU5BEdkY"
      },
      "source": [
        "***Adding a New Variable to Multiple Regression***\n",
        "\n",
        "\n",
        "> From analyzing the plot, I noticed that there were several orange bubbles, corresponding to ads that ran in Canada, that appeared to sit above an overall trendline. This indicated to me that whether or not an ad runs in Canada might have a positive correlation with the number of impressions that a political ad gets. So, I assigned each ad a value of 1 if it ran in Canada, and 0 if not. I added this new data column to the dataframe.\n",
        "\n"
      ]
    },
    {
      "cell_type": "code",
      "metadata": {
        "id": "XDeTUZc8BYSR"
      },
      "source": [
        "#assign value of 1 if country is Canada, 0 if not\n",
        "canada = []\n",
        "for i in range(len(df)):\n",
        "  if df.loc[i, \"CountryCode\"] == \"canada\":\n",
        "    canada.append(1)\n",
        "  else:\n",
        "    canada.append(0)\n",
        "\n",
        "#add variable to the dataframe\n",
        "df['Canada?'] = canada"
      ],
      "execution_count": 15,
      "outputs": []
    },
    {
      "cell_type": "markdown",
      "metadata": {
        "id": "VpPC1m4aFMXO"
      },
      "source": [
        "***Multiple Regression***\n",
        "\n",
        "\n",
        "> In this step, I ran a multiple regression model using the statsmodels library. Spend and time running predict impressions positively and strongly, as given by their positive coefficients and low p-values. While my guess that an ad that runs in Canada is likely to have more impressions seems to be reflected by its positive coefficient, its p-value is rather high at 0.483. This indicates to me that this correlation is not strong enough to say that there is definitively a relationship between an ad running in Canada and the number of impressions.\n",
        "\n"
      ]
    },
    {
      "cell_type": "code",
      "metadata": {
        "colab": {
          "base_uri": "https://localhost:8080/"
        },
        "id": "j6ANYt_rBcst",
        "outputId": "07ff044a-0911-4c42-c6a6-e7ba933faf32"
      },
      "source": [
        "#run multiple linear regression with ad spend, amount of time run, and whether or not it was in Canada as the variables\n",
        "Y = df['Impressions']\n",
        "X = df[['Spend', 'Time', 'Canada?']]\n",
        "X = sm.add_constant(X) # adding a constant\n",
        "model = sm.OLS(Y, X).fit()\n",
        "predictions = model.predict(X) \n",
        " \n",
        "print_model = model.summary()\n",
        "print(print_model)"
      ],
      "execution_count": 16,
      "outputs": [
        {
          "output_type": "stream",
          "text": [
            "                            OLS Regression Results                            \n",
            "==============================================================================\n",
            "Dep. Variable:            Impressions   R-squared:                       0.687\n",
            "Model:                            OLS   Adj. R-squared:                  0.686\n",
            "Method:                 Least Squares   F-statistic:                     430.5\n",
            "Date:                Tue, 13 Apr 2021   Prob (F-statistic):          6.95e-148\n",
            "Time:                        21:12:50   Log-Likelihood:                -8733.3\n",
            "No. Observations:                 592   AIC:                         1.747e+04\n",
            "Df Residuals:                     588   BIC:                         1.749e+04\n",
            "Df Model:                           3                                         \n",
            "Covariance Type:            nonrobust                                         \n",
            "==============================================================================\n",
            "                 coef    std err          t      P>|t|      [0.025      0.975]\n",
            "------------------------------------------------------------------------------\n",
            "const      -1.158e+05   3.33e+04     -3.472      0.001   -1.81e+05   -5.03e+04\n",
            "Spend        341.9703     10.006     34.177      0.000     322.319     361.622\n",
            "Time           0.0655      0.011      5.870      0.000       0.044       0.087\n",
            "Canada?     9.143e+04    1.3e+05      0.702      0.483   -1.64e+05    3.47e+05\n",
            "==============================================================================\n",
            "Omnibus:                      700.269   Durbin-Watson:                   1.974\n",
            "Prob(Omnibus):                  0.000   Jarque-Bera (JB):           135441.397\n",
            "Skew:                           5.322   Prob(JB):                         0.00\n",
            "Kurtosis:                      76.332   Cond. No.                     1.54e+07\n",
            "==============================================================================\n",
            "\n",
            "Warnings:\n",
            "[1] Standard Errors assume that the covariance matrix of the errors is correctly specified.\n",
            "[2] The condition number is large, 1.54e+07. This might indicate that there are\n",
            "strong multicollinearity or other numerical problems.\n"
          ],
          "name": "stdout"
        }
      ]
    }
  ]
}